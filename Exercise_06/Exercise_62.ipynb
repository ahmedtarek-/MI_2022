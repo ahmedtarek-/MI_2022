{
 "cells": [
  {
   "cell_type": "markdown",
   "id": "9bf05d93-b179-4433-bd36-5b3aefd93872",
   "metadata": {},
   "source": [
    "# MI\n",
    "**_Ahmed - Luisa - Myria_**\n",
    "\n",
    "## Exercise H62.1: Long short-term memory (LSTM)\n",
    "\n",
    "### a) Creating training and validation datasets"
   ]
  },
  {
   "cell_type": "code",
   "execution_count": 19,
   "id": "bc4d3cf1-d98e-4f12-bc94-a16cad07f72f",
   "metadata": {},
   "outputs": [],
   "source": [
    "import numpy as np\n",
    "\n",
    "def generate_series(series_size, total_count):\n",
    "    return [np.random.randint(0, 10, series_size) for i in range(total_count)]\n",
    "\n",
    "def evaluate_series(series):\n",
    "    return 1 if sum(series) >= 100 else 0\n",
    "\n",
    "def generate_input_output(collection_of_series):\n",
    "    output = [evaluate_series(series) for series in collection_of_series]\n",
    "    return list(zip(collection_of_series, output))\n",
    "        \n",
    "training_dataset = generate_input_output(generate_series(30, 8000))\n",
    "validation_dataset = generate_input_output(generate_series(30, 2000))"
   ]
  },
  {
   "cell_type": "markdown",
   "id": "4d5d7a22-4420-41f4-b079-b048a3fdbf2a",
   "metadata": {},
   "source": [
    "### b) Building an RNN"
   ]
  }
 ],
 "metadata": {
  "kernelspec": {
   "display_name": "Python 3 (ipykernel)",
   "language": "python",
   "name": "python3"
  },
  "language_info": {
   "codemirror_mode": {
    "name": "ipython",
    "version": 3
   },
   "file_extension": ".py",
   "mimetype": "text/x-python",
   "name": "python",
   "nbconvert_exporter": "python",
   "pygments_lexer": "ipython3",
   "version": "3.9.6"
  }
 },
 "nbformat": 4,
 "nbformat_minor": 5
}
