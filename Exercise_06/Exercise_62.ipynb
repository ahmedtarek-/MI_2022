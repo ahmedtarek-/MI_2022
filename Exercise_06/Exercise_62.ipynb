{
 "cells": [
  {
   "cell_type": "markdown",
   "id": "9bf05d93-b179-4433-bd36-5b3aefd93872",
   "metadata": {},
   "source": [
    "# MI\n",
    "**_Ahmed - Luisa - Myria_**\n",
    "\n",
    "## Exercise H62.1: Long short-term memory (LSTM)\n",
    "\n",
    "### a) Creating training and validation datasets"
   ]
  },
  {
   "cell_type": "code",
   "execution_count": 21,
   "id": "bc4d3cf1-d98e-4f12-bc94-a16cad07f72f",
   "metadata": {},
   "outputs": [],
   "source": [
    "import numpy as np\n",
    "\n",
    "SERIES_SIZE = 30\n",
    "\n",
    "def generate_series(series_size, total_count):\n",
    "    # res = []\n",
    "    # for i in range(total_count):\n",
    "    #     res.append([list(np.random.randint(0,10, 1)) for k in range(series_size)])\n",
    "    return [list(np.random.randint(0, 10, series_size)) for i in range(total_count)]\n",
    "\n",
    "def evaluate_series(series):\n",
    "    # return 1 if sum([s[0] for s in series]) >= 100 else 0\n",
    "    return 1 if sum(series) >= 100 else 0\n",
    "\n",
    "def generate_input_output(collection_of_series):\n",
    "    output = [evaluate_series(series) for series in collection_of_series]\n",
    "    return np.array(collection_of_series), output\n",
    "\n",
    "X_train, y_train = generate_input_output(generate_series(SERIES_SIZE, 8000))\n",
    "X_holdout, y_holdout = generate_input_output(generate_series(SERIES_SIZE, 2000))"
   ]
  },
  {
   "cell_type": "markdown",
   "id": "4d5d7a22-4420-41f4-b079-b048a3fdbf2a",
   "metadata": {},
   "source": [
    "### b) Building an RNN\n",
    "\n",
    "**1. Prepare the data**"
   ]
  },
  {
   "cell_type": "code",
   "execution_count": 22,
   "id": "99944f1b-8966-4ad2-9f13-77a4f44185a6",
   "metadata": {},
   "outputs": [],
   "source": [
    "import warnings\n",
    "warnings.filterwarnings('ignore')\n",
    "\n",
    "# Reshape to 3D (samples_size, sequence_length, features)\n",
    "X_train = X_train.reshape(len(X_train), SERIES_SIZE, 1)\n",
    "X_holdout = X_holdout.reshape(len(X_holdout), SERIES_SIZE, 1)\n",
    "\n",
    "# Make sure all are as array to avoid model complaining\n",
    "X_train = np.asarray(X_train)\n",
    "X_holdout = np.asarray(X_holdout)\n",
    "\n",
    "y_train = np.asarray(y_train)\n",
    "y_holdout = np.asarray(y_holdout)"
   ]
  },
  {
   "cell_type": "markdown",
   "id": "cda606cc-bc26-4759-b82d-0f7ab0994043",
   "metadata": {},
   "source": [
    "**2. Define the LSTM model**"
   ]
  },
  {
   "cell_type": "code",
   "execution_count": 23,
   "id": "1f18cd2f-fb67-4f52-90c0-8d9c5edca480",
   "metadata": {},
   "outputs": [
    {
     "name": "stdout",
     "output_type": "stream",
     "text": [
      "Model: \"sequential\"\n",
      "_________________________________________________________________\n",
      " Layer (type)                Output Shape              Param #   \n",
      "=================================================================\n",
      " lstm (LSTM)                 (None, 200)               161600    \n",
      "                                                                 \n",
      " dense (Dense)               (None, 1)                 201       \n",
      "                                                                 \n",
      " activation (Activation)     (None, 1)                 0         \n",
      "                                                                 \n",
      "=================================================================\n",
      "Total params: 161,801\n",
      "Trainable params: 161,801\n",
      "Non-trainable params: 0\n",
      "_________________________________________________________________\n"
     ]
    }
   ],
   "source": [
    "from tensorflow.keras import Input, optimizers\n",
    "from tensorflow.keras.layers import Dense, Activation, LSTM, Embedding\n",
    "from tensorflow.keras.models import Model, Sequential\n",
    "from tensorflow.keras.preprocessing import sequence\n",
    "\n",
    "lstm_model = Sequential()\n",
    "lstm_model.add(LSTM(200, activation='relu', input_shape=(30, 1)))\n",
    "lstm_model.add(Dense(1))\n",
    "lstm_model.add(Activation('sigmoid'))\n",
    "\n",
    "lstm_model.summary()"
   ]
  },
  {
   "cell_type": "markdown",
   "id": "2c307d79-26fc-4fbd-b0e6-c91d2915aa62",
   "metadata": {},
   "source": [
    "**3. Compile and run the model**"
   ]
  },
  {
   "cell_type": "code",
   "execution_count": 24,
   "id": "fca5f8b3-5d67-4ed4-b3ec-2ce3cc3b9c6c",
   "metadata": {},
   "outputs": [
    {
     "name": "stdout",
     "output_type": "stream",
     "text": [
      "Epoch 1/60\n",
      "160/160 [==============================] - 6s 32ms/step - loss: 0.0529 - accuracy: 0.9865 - val_loss: 0.0515 - val_accuracy: 0.9815\n",
      "Epoch 2/60\n",
      "160/160 [==============================] - 5s 31ms/step - loss: 0.0414 - accuracy: 0.9865 - val_loss: 0.0579 - val_accuracy: 0.9815\n",
      "Epoch 3/60\n",
      "160/160 [==============================] - 5s 33ms/step - loss: 0.0493 - accuracy: 0.9865 - val_loss: 0.3252 - val_accuracy: 0.9815\n",
      "Epoch 4/60\n",
      "160/160 [==============================] - 6s 35ms/step - loss: 0.0602 - accuracy: 0.9862 - val_loss: 0.1842 - val_accuracy: 0.9815\n",
      "Epoch 5/60\n",
      "160/160 [==============================] - 5s 34ms/step - loss: 0.0433 - accuracy: 0.9865 - val_loss: 0.0418 - val_accuracy: 0.9815\n",
      "Epoch 6/60\n",
      "160/160 [==============================] - 6s 36ms/step - loss: 0.0287 - accuracy: 0.9865 - val_loss: 0.0453 - val_accuracy: 0.9815\n",
      "Epoch 7/60\n",
      "160/160 [==============================] - 6s 35ms/step - loss: 0.0326 - accuracy: 0.9865 - val_loss: 0.0395 - val_accuracy: 0.9815\n",
      "Epoch 8/60\n",
      "160/160 [==============================] - 5s 31ms/step - loss: 0.0330 - accuracy: 0.9865 - val_loss: 0.0390 - val_accuracy: 0.9815\n",
      "Epoch 9/60\n",
      "160/160 [==============================] - 5s 32ms/step - loss: 0.0270 - accuracy: 0.9865 - val_loss: 0.0424 - val_accuracy: 0.9815\n",
      "Epoch 10/60\n",
      "160/160 [==============================] - 6s 38ms/step - loss: 0.0271 - accuracy: 0.9865 - val_loss: 0.0384 - val_accuracy: 0.9815\n",
      "Epoch 11/60\n",
      "160/160 [==============================] - 5s 31ms/step - loss: 0.0265 - accuracy: 0.9865 - val_loss: 0.0362 - val_accuracy: 0.9815\n",
      "Epoch 12/60\n",
      "160/160 [==============================] - 5s 32ms/step - loss: 0.0293 - accuracy: 0.9865 - val_loss: 0.0402 - val_accuracy: 0.9830\n",
      "Epoch 13/60\n",
      "160/160 [==============================] - 6s 35ms/step - loss: 0.0384 - accuracy: 0.9864 - val_loss: 0.0439 - val_accuracy: 0.9815\n",
      "Epoch 14/60\n",
      "160/160 [==============================] - 5s 33ms/step - loss: 0.0255 - accuracy: 0.9865 - val_loss: 0.0320 - val_accuracy: 0.9815\n",
      "Epoch 15/60\n",
      "160/160 [==============================] - 5s 33ms/step - loss: 0.0947 - accuracy: 0.9856 - val_loss: 0.0574 - val_accuracy: 0.9815\n",
      "Epoch 16/60\n",
      "160/160 [==============================] - 6s 37ms/step - loss: 0.0320 - accuracy: 0.9865 - val_loss: 0.0380 - val_accuracy: 0.9815\n",
      "Epoch 17/60\n",
      "160/160 [==============================] - 5s 33ms/step - loss: 0.0337 - accuracy: 0.9865 - val_loss: 0.0360 - val_accuracy: 0.9815\n",
      "Epoch 18/60\n",
      "160/160 [==============================] - 5s 30ms/step - loss: 0.0520 - accuracy: 0.9864 - val_loss: 0.1343 - val_accuracy: 0.9815\n",
      "Epoch 19/60\n",
      "160/160 [==============================] - 6s 37ms/step - loss: 0.1937 - accuracy: 0.9864 - val_loss: 0.0831 - val_accuracy: 0.9815\n",
      "Epoch 20/60\n",
      "160/160 [==============================] - 5s 31ms/step - loss: 0.0332 - accuracy: 0.9865 - val_loss: 0.0363 - val_accuracy: 0.9815\n",
      "Epoch 21/60\n",
      "160/160 [==============================] - 5s 32ms/step - loss: 0.0268 - accuracy: 0.9870 - val_loss: 0.0337 - val_accuracy: 0.9815\n",
      "Epoch 22/60\n",
      "160/160 [==============================] - 6s 39ms/step - loss: 0.0205 - accuracy: 0.9905 - val_loss: 0.0287 - val_accuracy: 0.9895\n",
      "Epoch 23/60\n",
      "160/160 [==============================] - 6s 35ms/step - loss: 0.0186 - accuracy: 0.9924 - val_loss: 0.0222 - val_accuracy: 0.9920\n",
      "Epoch 24/60\n",
      "160/160 [==============================] - 6s 40ms/step - loss: 0.0151 - accuracy: 0.9945 - val_loss: 0.0233 - val_accuracy: 0.9920\n",
      "Epoch 25/60\n",
      "160/160 [==============================] - 6s 38ms/step - loss: 0.0133 - accuracy: 0.9945 - val_loss: 0.0177 - val_accuracy: 0.9950\n",
      "Epoch 26/60\n",
      "160/160 [==============================] - 6s 36ms/step - loss: 0.0124 - accuracy: 0.9940 - val_loss: 0.0181 - val_accuracy: 0.9955\n",
      "Epoch 27/60\n",
      "160/160 [==============================] - 6s 38ms/step - loss: 0.0132 - accuracy: 0.9944 - val_loss: 0.0159 - val_accuracy: 0.9945\n",
      "Epoch 28/60\n",
      "160/160 [==============================] - 6s 35ms/step - loss: 0.0118 - accuracy: 0.9951 - val_loss: 0.0202 - val_accuracy: 0.9925\n",
      "Epoch 29/60\n",
      "160/160 [==============================] - 6s 36ms/step - loss: 0.0117 - accuracy: 0.9951 - val_loss: 0.0127 - val_accuracy: 0.9945\n",
      "Epoch 30/60\n",
      "160/160 [==============================] - 6s 38ms/step - loss: 213.8759 - accuracy: 0.9899 - val_loss: 0.0507 - val_accuracy: 0.9815\n",
      "Epoch 31/60\n",
      "160/160 [==============================] - 5s 30ms/step - loss: 0.0337 - accuracy: 0.9865 - val_loss: 0.0442 - val_accuracy: 0.9815\n",
      "Epoch 32/60\n",
      "160/160 [==============================] - 8s 50ms/step - loss: 0.0308 - accuracy: 0.9865 - val_loss: 0.0789 - val_accuracy: 0.9815\n",
      "Epoch 33/60\n",
      "160/160 [==============================] - 7s 43ms/step - loss: 0.1171 - accuracy: 0.9865 - val_loss: 0.0600 - val_accuracy: 0.9815\n",
      "Epoch 34/60\n",
      "160/160 [==============================] - 5s 34ms/step - loss: 0.0348 - accuracy: 0.9865 - val_loss: 0.0421 - val_accuracy: 0.9815\n",
      "Epoch 35/60\n",
      "160/160 [==============================] - 6s 36ms/step - loss: 0.0316 - accuracy: 0.9865 - val_loss: 0.0475 - val_accuracy: 0.9815\n",
      "Epoch 36/60\n",
      "160/160 [==============================] - 5s 31ms/step - loss: 0.0286 - accuracy: 0.9865 - val_loss: 0.0401 - val_accuracy: 0.9815\n",
      "Epoch 37/60\n",
      "160/160 [==============================] - 5s 33ms/step - loss: 0.0353 - accuracy: 0.9864 - val_loss: 0.0406 - val_accuracy: 0.9815\n",
      "Epoch 38/60\n",
      "160/160 [==============================] - 5s 33ms/step - loss: 0.0289 - accuracy: 0.9865 - val_loss: 0.0398 - val_accuracy: 0.9815\n",
      "Epoch 39/60\n",
      "160/160 [==============================] - 5s 32ms/step - loss: 0.0270 - accuracy: 0.9865 - val_loss: 0.0362 - val_accuracy: 0.9815\n",
      "Epoch 40/60\n",
      "160/160 [==============================] - 6s 38ms/step - loss: 0.2970 - accuracy: 0.9776 - val_loss: 0.0408 - val_accuracy: 0.9815\n",
      "Epoch 41/60\n",
      "160/160 [==============================] - 5s 34ms/step - loss: 0.0303 - accuracy: 0.9865 - val_loss: 0.0430 - val_accuracy: 0.9815\n",
      "Epoch 42/60\n",
      "160/160 [==============================] - 5s 33ms/step - loss: 0.0280 - accuracy: 0.9865 - val_loss: 0.0362 - val_accuracy: 0.9815\n",
      "Epoch 43/60\n",
      "160/160 [==============================] - 5s 32ms/step - loss: 0.0280 - accuracy: 0.9865 - val_loss: 0.0332 - val_accuracy: 0.9815\n",
      "Epoch 44/60\n",
      "160/160 [==============================] - 5s 34ms/step - loss: 0.0253 - accuracy: 0.9866 - val_loss: 0.0320 - val_accuracy: 0.9815\n",
      "Epoch 45/60\n",
      "160/160 [==============================] - 6s 37ms/step - loss: 0.0252 - accuracy: 0.9866 - val_loss: 0.0327 - val_accuracy: 0.9815\n",
      "Epoch 46/60\n",
      "160/160 [==============================] - 5s 33ms/step - loss: 0.0220 - accuracy: 0.9872 - val_loss: 0.0254 - val_accuracy: 0.9890\n",
      "Epoch 47/60\n",
      "160/160 [==============================] - 5s 31ms/step - loss: 0.0201 - accuracy: 0.9909 - val_loss: 0.0232 - val_accuracy: 0.9870\n",
      "Epoch 48/60\n",
      "160/160 [==============================] - 5s 31ms/step - loss: 0.0160 - accuracy: 0.9926 - val_loss: 0.0263 - val_accuracy: 0.9870\n",
      "Epoch 49/60\n",
      "160/160 [==============================] - 5s 33ms/step - loss: 0.0138 - accuracy: 0.9946 - val_loss: 0.0118 - val_accuracy: 0.9980\n",
      "Epoch 50/60\n",
      "160/160 [==============================] - 5s 31ms/step - loss: 0.0203 - accuracy: 0.9919 - val_loss: 0.0225 - val_accuracy: 0.9880\n",
      "Epoch 51/60\n",
      "160/160 [==============================] - 7s 44ms/step - loss: 0.0137 - accuracy: 0.9941 - val_loss: 0.0156 - val_accuracy: 0.9960\n",
      "Epoch 52/60\n",
      "160/160 [==============================] - 5s 34ms/step - loss: 0.0128 - accuracy: 0.9956 - val_loss: 0.0102 - val_accuracy: 0.9985\n",
      "Epoch 53/60\n",
      "160/160 [==============================] - 5s 34ms/step - loss: 0.0116 - accuracy: 0.9954 - val_loss: 0.0093 - val_accuracy: 0.9985\n",
      "Epoch 54/60\n",
      "160/160 [==============================] - 5s 30ms/step - loss: 0.0146 - accuracy: 0.9937 - val_loss: 0.0287 - val_accuracy: 0.9860\n",
      "Epoch 55/60\n",
      "160/160 [==============================] - 5s 31ms/step - loss: 0.0127 - accuracy: 0.9941 - val_loss: 0.0272 - val_accuracy: 0.9880\n",
      "Epoch 56/60\n",
      "160/160 [==============================] - 5s 34ms/step - loss: 0.0110 - accuracy: 0.9958 - val_loss: 0.0097 - val_accuracy: 0.9965\n",
      "Epoch 57/60\n",
      "160/160 [==============================] - 6s 35ms/step - loss: 0.0116 - accuracy: 0.9958 - val_loss: 0.0106 - val_accuracy: 0.9985\n",
      "Epoch 58/60\n",
      "160/160 [==============================] - 5s 31ms/step - loss: 0.0135 - accuracy: 0.9942 - val_loss: 0.0205 - val_accuracy: 0.9950\n",
      "Epoch 59/60\n",
      "160/160 [==============================] - 5s 32ms/step - loss: 0.0115 - accuracy: 0.9945 - val_loss: 0.0094 - val_accuracy: 0.9990\n",
      "Epoch 60/60\n",
      "160/160 [==============================] - 5s 31ms/step - loss: 0.0107 - accuracy: 0.9956 - val_loss: 0.0176 - val_accuracy: 0.9940\n"
     ]
    },
    {
     "data": {
      "text/plain": [
       "<keras.callbacks.History at 0x7fcd59b1ee80>"
      ]
     },
     "execution_count": 24,
     "metadata": {},
     "output_type": "execute_result"
    }
   ],
   "source": [
    "from tensorflow.keras.backend import clear_session\n",
    "clear_session()\n",
    "\n",
    "lstm_model.compile(\n",
    "    loss=\"binary_crossentropy\",\n",
    "    optimizer=optimizers.Adam(\n",
    "                  learning_rate=0.001,\n",
    "                  beta_1=0.9,\n",
    "                  beta_2=0.999,\n",
    "                  epsilon=1e-08\n",
    "              ),\n",
    "    metrics=[\"accuracy\"])\n",
    "lstm_model.fit(\n",
    "    X_train,\n",
    "    y_train,\n",
    "    batch_size=50,\n",
    "    epochs=60,\n",
    "    validation_data=(X_holdout, y_holdout)\n",
    ")"
   ]
  },
  {
   "cell_type": "markdown",
   "id": "9a31ae80-846c-4b26-8860-4799f268bc8e",
   "metadata": {},
   "source": [
    "**4. Test the model using a novel prediction**"
   ]
  },
  {
   "cell_type": "code",
   "execution_count": 25,
   "id": "64a76e1e-d48b-4464-b088-c153dea6aad3",
   "metadata": {},
   "outputs": [
    {
     "name": "stdout",
     "output_type": "stream",
     "text": [
      "1\n",
      "1/1 [==============================] - 0s 159ms/step\n"
     ]
    },
    {
     "data": {
      "text/plain": [
       "array([[1.]], dtype=float32)"
      ]
     },
     "execution_count": 25,
     "metadata": {},
     "output_type": "execute_result"
    }
   ],
   "source": [
    "x = np.random.randint(0, 10, SERIES_SIZE)\n",
    "y = 1 if np.sum(x) > 100 >= 100 else 0 \n",
    "\n",
    "x = np.asarray(x.reshape(1, SERIES_SIZE, 1))\n",
    "print(y)\n",
    "\n",
    "lstm_model.predict(x)"
   ]
  },
  {
   "cell_type": "markdown",
   "id": "3985456e-be79-4f2c-9c07-7b0c50e8fb06",
   "metadata": {},
   "source": [
    "**5. Class distribuition of data**"
   ]
  },
  {
   "cell_type": "code",
   "execution_count": 49,
   "id": "361147d2-ec70-4ee9-8964-f41103e03a87",
   "metadata": {},
   "outputs": [
    {
     "data": {
      "image/png": "[encoded data removed]",
      "text/plain": [
       "<Figure size 576x720 with 2 Axes>"
      ]
     },
     "metadata": {
      "needs_background": "light"
     },
     "output_type": "display_data"
    },
    {
     "name": "stdout",
     "output_type": "stream",
     "text": [
      "\n",
      "We can see that most of the data has a value 1 (i.e sum of sequence is > 100). This might make the model learn the wrong thing (ex. it's always 1 for example, or having values >2)\n",
      "\n"
     ]
    }
   ],
   "source": [
    "import matplotlib.pyplot as plt\n",
    "\n",
    "counts, bins = np.histogram(y_train, bins=[0,1,2])\n",
    "# plt.stairs(counts, bins)\n",
    "# counts\n",
    "plt.figure(figsize=(8,10))\n",
    "plt.subplot(211)\n",
    "plt.hist(y_train, bins=[0,1,2], label=\"train\")\n",
    "plt.title(\"Training\")\n",
    "plt.subplot(212)\n",
    "plt.hist(y_holdout, bins=[0,1,2], label=\"holdout\")\n",
    "plt.title(\"Holdout\")\n",
    "plt.show()\n",
    "\n",
    "print(\"\"\"\n",
    "We can see that most of the data has a value 1 (i.e sum of sequence is > 100). This might make the model learn the wrong thing (ex. it's always 1 for example, or having values >2)\n",
    "\"\"\")"
   ]
  },
  {
   "cell_type": "code",
   "execution_count": null,
   "id": "4b1484ef-d91f-4a93-883c-9516ea4e93da",
   "metadata": {},
   "outputs": [],
   "source": []
  }
 ],
 "metadata": {
  "kernelspec": {
   "display_name": "Python 3 (ipykernel)",
   "language": "python",
   "name": "python3"
  },
  "language_info": {
   "codemirror_mode": {
    "name": "ipython",
    "version": 3
   },
   "file_extension": ".py",
   "mimetype": "text/x-python",
   "name": "python",
   "nbconvert_exporter": "python",
   "pygments_lexer": "ipython3",
   "version": "3.9.6"
  }
 },
 "nbformat": 4,
 "nbformat_minor": 5
}
