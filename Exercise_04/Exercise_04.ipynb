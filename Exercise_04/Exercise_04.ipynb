{
 "cells": [
  {
   "cell_type": "markdown",
   "id": "386d18ee-c1ae-4e38-baaa-daa91c877321",
   "metadata": {},
   "source": [
    "# MI\n",
    "## Problem Set (Question 2)\n",
    "\n",
    "### a) Gradient Descent\n"
   ]
  },
  {
   "cell_type": "code",
   "execution_count": 68,
   "id": "d5b923e7-b820-4494-bef2-04516652df77",
   "metadata": {},
   "outputs": [
    {
     "data": {
      "image/png": "[encoded data removed]",
      "text/plain": [
       "<Figure size 720x576 with 2 Axes>"
      ]
     },
     "metadata": {
      "needs_background": "light"
     },
     "output_type": "display_data"
    }
   ],
   "source": [
    "import numpy as np\n",
    "import matplotlib.pyplot as plt\n",
    "from matplotlib.pyplot import figure\n",
    "\n",
    "\n",
    "class Neuron:\n",
    "    \"\"\"\n",
    "    Connectionist neuron that takes initial_weight and learns a good\n",
    "    weight through different procedures.\n",
    "    \"\"\"\n",
    "    def __init__(self, initial_weight, dataset, learning_rate=0.2):\n",
    "        self.weight = initial_weight\n",
    "        self.x = np.array([[1,1,1], [d[0] for d in dataset]])\n",
    "        self.y_true = np.array([d[1] for d in dataset])\n",
    "        self.learning_rate = learning_rate\n",
    "\n",
    "    def gradient(self):\n",
    "        \"\"\"\n",
    "        Calculates the gradient using whole dataset (x, y_true)\n",
    "\n",
    "        Return gradient (shape: 2x1)\n",
    "        \"\"\"\n",
    "        p = len(y_true)\n",
    "        h = 1/p * np.dot(self.x, self.x.transpose()) # (shape 2x2)\n",
    "        return np.dot(h, self.weight) - (1/p * np.dot(self.x, self.y_true))\n",
    "    \n",
    "    def gradient_descent(self, plot=False):\n",
    "        \"\"\"\n",
    "        Runs gradient descent algorithm\n",
    "            new_weight = weight - (learning_rate * gradient)\n",
    "        \n",
    "        Returns new_weight (shape: 2x1)\n",
    "        \"\"\"\n",
    "        weights = [self.weight]\n",
    "        for i in range(20):\n",
    "            new_weight = self.weight - (self.learning_rate * self.gradient())\n",
    "            weights.append(new_weight)\n",
    "            self.weight = new_weight\n",
    "        if plot:\n",
    "            self.plot(weights)\n",
    "        return weights\n",
    "    \n",
    "    def plot(self, weights):\n",
    "        \"\"\"\n",
    "        Takes weights array and plot it\n",
    "        \"\"\"\n",
    "        fig, axs = plt.subplots(2, figsize=(10, 8))\n",
    "        fig.suptitle('Weights progression')\n",
    "\n",
    "        # Plot W1 vs W2\n",
    "        x = [weight[0] for weight in weights]\n",
    "        y = [weight[1] for weight in weights]\n",
    "        axs[0].scatter(x, y, label = \"W1 vs W2\")\n",
    "\n",
    "        # Plot iterations vs weights\n",
    "        x = range(len(weights))\n",
    "        y1 = [weight[0] for weight in weights]\n",
    "        y2 = [weight[1] for weight in weights]\n",
    "        axs[1].scatter(x, y1, label = \"W1\")\n",
    "        axs[1].scatter(x, y2, label = \"W2\")\n",
    "\n",
    "        # Cosmetic stuff\n",
    "        axs[0].set_xlabel(\"W1\")\n",
    "        axs[0].set_ylabel(\"W2\")\n",
    "        axs[1].set_xlabel(\"Iteration\")\n",
    "        axs[1].set_ylabel(\"Weights\")\n",
    "        axs[0].legend()\n",
    "        axs[1].legend()\n",
    "        plt.show()\n",
    "\n",
    "\n",
    "# Initializing dataset and initial_weight\n",
    "dataset = [[-1, -0.1], [0.3 , 0.5], [2,0.5]]\n",
    "initial_weight = np.array([-0.45, 0.2])\n",
    "\n",
    "# Calculating gradient\n",
    "w = Neuron(initial_weight, dataset).gradient_descent(plot=True)"
   ]
  },
  {
   "cell_type": "markdown",
   "id": "42b34afd-d0ff-462c-806b-2ab1f9b72a18",
   "metadata": {},
   "source": [
    "### b) Line Search"
   ]
  },
  {
   "cell_type": "code",
   "execution_count": null,
   "id": "7e9e2913-98eb-491e-a96c-fee79b122e00",
   "metadata": {},
   "outputs": [],
   "source": []
  }
 ],
 "metadata": {
  "kernelspec": {
   "display_name": "Python 3 (ipykernel)",
   "language": "python",
   "name": "python3"
  },
  "language_info": {
   "codemirror_mode": {
    "name": "ipython",
    "version": 3
   },
   "file_extension": ".py",
   "mimetype": "text/x-python",
   "name": "python",
   "nbconvert_exporter": "python",
   "pygments_lexer": "ipython3",
   "version": "3.9.6"
  }
 },
 "nbformat": 4,
 "nbformat_minor": 5
}
