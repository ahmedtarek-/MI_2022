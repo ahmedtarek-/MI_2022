{
 "cells": [
  {
   "cell_type": "markdown",
   "id": "386d18ee-c1ae-4e38-baaa-daa91c877321",
   "metadata": {},
   "source": [
    "# MI\n",
    "## Problem Set (Question 2)\n",
    "\n",
    "### a) Gradient Descent\n"
   ]
  },
  {
   "cell_type": "code",
   "execution_count": 38,
   "id": "d5b923e7-b820-4494-bef2-04516652df77",
   "metadata": {},
   "outputs": [
    {
     "data": {
      "text/plain": [
       "array([-0.66333333, -0.27233333])"
      ]
     },
     "execution_count": 38,
     "metadata": {},
     "output_type": "execute_result"
    }
   ],
   "source": [
    "import numpy as np\n",
    "\n",
    "\n",
    "\n",
    "def gradient(x, y_true, weight):\n",
    "    p = len(y_true)\n",
    "    h = 1/p * np.dot(x, x.transpose())\n",
    "    return np.dot(h,weight) - (1/p * np.dot(x, y_true))\n",
    "\n",
    "# Initializing dataset\n",
    "dataset = [[-1, -0.1], [0.3 , 0.5], [2,0.5]]\n",
    "\n",
    "# Getting x, y_true\n",
    "x = np.array([[1,1,1], [d[0] for d in dataset]])\n",
    "y_true = np.array([d[1] for d in dataset])\n",
    "\n",
    "# Initial weight\n",
    "w_1 = np.array([-0.45, 0.2])\n",
    "\n",
    "# Calculating the gradient\n",
    "gradient(x, y_true, w_1)"
   ]
  },
  {
   "cell_type": "code",
   "execution_count": null,
   "id": "02acd39c-25db-4689-8a6c-6f8e4a373ab7",
   "metadata": {},
   "outputs": [],
   "source": []
  }
 ],
 "metadata": {
  "kernelspec": {
   "display_name": "Python 3 (ipykernel)",
   "language": "python",
   "name": "python3"
  },
  "language_info": {
   "codemirror_mode": {
    "name": "ipython",
    "version": 3
   },
   "file_extension": ".py",
   "mimetype": "text/x-python",
   "name": "python",
   "nbconvert_exporter": "python",
   "pygments_lexer": "ipython3",
   "version": "3.9.6"
  }
 },
 "nbformat": 4,
 "nbformat_minor": 5
}
